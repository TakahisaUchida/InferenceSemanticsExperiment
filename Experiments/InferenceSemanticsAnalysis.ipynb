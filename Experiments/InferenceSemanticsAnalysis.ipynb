{
 "cells": [
  {
   "cell_type": "code",
   "execution_count": 9,
   "metadata": {},
   "outputs": [],
   "source": [
    "import numpy as np\n",
    "import matplotlib\n",
    "import matplotlib.pyplot as plt\n",
    "#from matplotlib import pyplot\n",
    "import nltk\n",
    "\n",
    "np.set_printoptions(threshold=np.inf)\n",
    "np.set_printoptions(precision=6)\n",
    "\n",
    "import csv\n",
    "\n",
    "import scipy\n",
    "from scipy import stats\n",
    "from scipy.stats import pearsonr\n",
    "\n",
    "from numpy import genfromtxt\n",
    "\n",
    "from sklearn.linear_model import LinearRegression\n",
    "\n",
    "\n",
    "def cos_sim(v1, v2):\n",
    "\treturn np.dot(v1, v2) / (np.linalg.norm(v1) * np.linalg.norm(v2))\n"
   ]
  },
  {
   "cell_type": "code",
   "execution_count": 10,
   "metadata": {},
   "outputs": [],
   "source": [
    "\n",
    "#metusalem2012_experiment-glove_6B_50d_twitter\n",
    "#metusalem2012_experiment-en_core_web_lg\n",
    "#data = genfromtxt('metusalem2012_glove_6B_100d_reservoir.csv', delimiter=',')\n",
    "data_wiki = genfromtxt('../embeddingsExperiments/metusalem2012_experiment-glove-wiki100.csv', delimiter=',')\n",
    "data_twit = genfromtxt('../embeddingsExperiments/metusalem2012_experiment-glove_6B_50d_twitter.csv', delimiter=',')\n",
    "data_lg = genfromtxt('../embeddingsExperiments/metusalem2012_experiment-en_core_web_lg.csv', delimiter=',')\n",
    "data_w2v = genfromtxt('../embeddingsExperiments/metusalem2012_experiment.csv', delimiter=',')\n",
    "data_w2v5 = genfromtxt('../embeddingsExperiments/metusalem2012_experiment - wi2v-500-taka.csv', delimiter=',')\n",
    "data_twit200 = genfromtxt('../embeddingsExperiments/metusalem2012_experiment-glove_6B_50d_twitter200.csv', delimiter=',')\n",
    "data_japan = genfromtxt('../embeddingsExperiments/metusalem2012_experiment_japanese_20200710.csv', delimiter=',')\n",
    "data_japan300 = genfromtxt('../embeddingsExperiments/takahisa-w2v300/metusalem2012_experiment_japanese_300d.csv', delimiter=',')\n",
    "data_google300 = genfromtxt('../embeddingsExperiments/metusalem2012_experiment-google300d.csv', delimiter=',')\n",
    "\n",
    "\n",
    "#metusalem2012_experiment-google300d\n",
    "#metusalem2012_experiment - wi2v-500-taka\n",
    "#metusalem2012_experiment-glove_6B_50d_twitter200"
   ]
  },
  {
   "cell_type": "code",
   "execution_count": 11,
   "metadata": {},
   "outputs": [
    {
     "name": "stdout",
     "output_type": "stream",
     "text": [
      "twit: for BC vs EF Ttest_relResult(statistic=-1.2090810262012297, pvalue=0.23064269122552664)\n",
      "twit200: for BC vs EF Ttest_relResult(statistic=-3.028756992848879, pvalue=0.0034223686751479005)\n",
      "glove100: for BC vs EF Ttest_relResult(statistic=-3.0421425850337798, pvalue=0.0032907330885527564)\n",
      "spacey-lg-300: for BC vs EF Ttest_relResult(statistic=-5.084216973160783, pvalue=2.8826664161977603e-06)\n",
      "w2v100: for BC vs EF Ttest_relResult(statistic=-4.143100747687799, pvalue=9.328642450789364e-05)\n",
      "google300: for BC vs EF Ttest_relResult(statistic=-5.86822335386013, pvalue=1.287675830111274e-07)\n",
      "[1.2090810262012297, 3.028756992848879, 3.0421425850337798, 5.084216973160783, 4.143100747687799, 5.86822335386013]\n",
      "6\n"
     ]
    }
   ],
   "source": [
    "# Metusalem Inference\n",
    "\n",
    "# this is the main statistic, looking at the impact of discourse on UR vs UU\n",
    "print('twit: for BC vs EF',stats.ttest_rel(data_twit[:,1] - data_twit[:,2] , data_twit[:,4] - data_twit[:,5] ))\n",
    "print('twit200: for BC vs EF',stats.ttest_rel(data_twit200[:,1] - data_twit200[:,2] , data_twit200[:,4] - data_twit200[:,5] ))\n",
    "print('glove100: for BC vs EF',stats.ttest_rel(data_wiki[:,1] - data_wiki[:,2] , data_wiki[:,4] - data_wiki[:,5] ))\n",
    "print('spacey-lg-300: for BC vs EF',stats.ttest_rel(data_lg[:,1] - data_lg[:,2] , data_lg[:,4] - data_lg[:,5] ))\n",
    "print('w2v100: for BC vs EF',stats.ttest_rel(data_w2v[:,1] - data_w2v[:,2] , data_w2v[:,4] - data_w2v[:,5] ))\n",
    "#data=data_w2v5\n",
    "#print('w2v500: for BC vs EF',stats.ttest_rel(data[:,1] - data[:,2] , data[:,4] - data[:,5] ))\n",
    "\n",
    "print('google300: for BC vs EF',stats.ttest_rel(data_google300[:,1] - data_google300[:,2] , data_google300[:,4] - data_google300[:,5] ))\n",
    "\n",
    "#data=data_japan\n",
    "#print('japan-wi2v: for BC vs EF',stats.ttest_rel(data[:,1] - data[:,2] , data[:,4] - data[:,5] ))\n",
    "#data=data_japan300\n",
    "#print('japan-wi2v300: for BC vs EF',stats.ttest_rel(data[:,1] - data[:,2] , data[:,4] - data[:,5] ))\n",
    "\n",
    "#MetusalemInference = [stats.ttest_rel(data_twit[:,1] - data_twit[:,2] , data_twit[:,4] - data_twit[:,5] )[0], stats.ttest_rel(data_twit200[:,1] - data_twit200[:,2] , data_twit200[:,4] - data_twit200[:,5] )[0], stats.ttest_rel(data_wiki[:,1] - data_wiki[:,2] , data_wiki[:,4] - data_wiki[:,5] )[0], stats.ttest_rel(data_lg[:,1] - data_lg[:,2] , data_lg[:,4] - data_lg[:,5] )[0], stats.ttest_rel(data_w2v[:,1] - data_w2v[:,2] , data_w2v[:,4] - data_w2v[:,5] )[0], stats.ttest_rel(data_google300[:,1] - data_google300[:,2] , data_google300[:,4] - data_google300[:,5] )[0]]\n",
    "MetusalemInference = [abs(stats.ttest_rel(data_twit[:,1] - data_twit[:,2] , data_twit[:,4] - data_twit[:,5] )[0]), abs(stats.ttest_rel(data_twit200[:,1] - data_twit200[:,2] , data_twit200[:,4] - data_twit200[:,5] )[0]), abs(stats.ttest_rel(data_wiki[:,1] - data_wiki[:,2] , data_wiki[:,4] - data_wiki[:,5] )[0]), abs(stats.ttest_rel(data_lg[:,1] - data_lg[:,2] , data_lg[:,4] - data_lg[:,5] )[0]), abs(stats.ttest_rel(data_w2v[:,1] - data_w2v[:,2] , data_w2v[:,4] - data_w2v[:,5] )[0]), abs(stats.ttest_rel(data_google300[:,1] - data_google300[:,2] , data_google300[:,4] - data_google300[:,5] )[0])]\n",
    "\n",
    "print(MetusalemInference)\n",
    "print(len(MetusalemInference))"
   ]
  },
  {
   "cell_type": "code",
   "execution_count": 12,
   "metadata": {},
   "outputs": [
    {
     "name": "stdout",
     "output_type": "stream",
     "text": [
      "twit: for BC vs EF Ttest_relResult(statistic=3.711027245271707, pvalue=0.00040694868718745296)\n",
      "twit200: for BC vs EF Ttest_relResult(statistic=4.6538265395902485, pvalue=1.4722939008167636e-05)\n",
      "glove100: for BC vs EF Ttest_relResult(statistic=4.965949330316043, pvalue=4.5399368246393965e-06)\n",
      "spacey-lg-300: for BC vs EF Ttest_relResult(statistic=7.429534316677804, pvalue=1.902423831983087e-10)\n",
      "w2v100: for BC vs EF Ttest_relResult(statistic=6.595083760811229, pvalue=6.433594054819778e-09)\n",
      "google300: for BC vs EF Ttest_relResult(statistic=8.033854167661929, pvalue=1.4472076831677796e-11)\n",
      "[3.711027245271707, 4.6538265395902485, 4.965949330316043, 7.429534316677804, 6.595083760811229, 8.033854167661929]\n",
      "6\n"
     ]
    }
   ],
   "source": [
    "# Metusalem Semantics\n",
    "\n",
    "\n",
    "# NOW compare to a simpler mesure of semantics\n",
    "print('twit: for BC vs EF',stats.ttest_rel(data_twit[:,0]  , (data_twit[:,1] + data_twit[:,2])/2 ))\n",
    "print('twit200: for BC vs EF',stats.ttest_rel(data_twit200[:,0]  , (data_twit200[:,1] + data_twit200[:,2])/2 ))\n",
    "\n",
    "print('glove100: for BC vs EF',stats.ttest_rel(data_wiki[:,0]  , (data_wiki[:,1] + data_wiki[:,2])/2 ))\n",
    "print('spacey-lg-300: for BC vs EF',stats.ttest_rel(data_lg[:,0]  , (data_lg[:,1] + data_lg[:,2])/2 ))\n",
    "\n",
    "print('w2v100: for BC vs EF',stats.ttest_rel(data_w2v[:,0]  , (data_w2v[:,1] + data_w2v[:,2])/2 ))\n",
    "#data=data_w2v5\n",
    "#print('w2v500: for BC vs EF',stats.ttest_rel(data[:,0]  , (data[:,1] + data[:,2])/2 ))\n",
    "\n",
    "print('google300: for BC vs EF',stats.ttest_rel(data_google300[:,0]  , (data_google300[:,1] + data_google300[:,2])/2 ))\n",
    "\n",
    "#data=data_japan\n",
    "#print('japan-wi2v: for BC vs EF',stats.ttest_rel(data[:,0]  , (data[:,1] + data[:,2])/2 ))\n",
    "#data=data_japan300\n",
    "#print('japan-wi2v300: for BC vs EF',stats.ttest_rel(data[:,0]  , (data[:,1] + data[:,2])/2 ))\n",
    "\n",
    "\n",
    "MetusalemSemantics = [stats.ttest_rel(data_twit[:,0]  , (data_twit[:,1] + data_twit[:,2])/2 )[0], stats.ttest_rel(data_twit200[:,0]  , (data_twit200[:,1] + data_twit200[:,2])/2 )[0], stats.ttest_rel(data_wiki[:,0]  , (data_wiki[:,1] + data_wiki[:,2])/2 )[0], stats.ttest_rel(data_lg[:,0]  , (data_lg[:,1] + data_lg[:,2])/2 )[0], stats.ttest_rel(data_w2v[:,0]  , (data_w2v[:,1] + data_w2v[:,2])/2 )[0], stats.ttest_rel(data_google300[:,0]  , (data_google300[:,1] + data_google300[:,2])/2 )[0]]\n",
    "print(MetusalemSemantics)\n",
    "print(len(MetusalemSemantics))"
   ]
  },
  {
   "cell_type": "code",
   "execution_count": 13,
   "metadata": {},
   "outputs": [],
   "source": [
    "# McKoon Inference\n",
    "\n",
    "\n",
    "data = genfromtxt('../McKoon1986-pipeline/McKoon_experiment.csv', delimiter=',')\n",
    "data1 = genfromtxt('../McKoon1986-pipeline/McKoon_experiment-en-wiki100d.csv', delimiter=',')\n",
    "data2 = genfromtxt('../McKoon1986-pipeline/McKoon_experiment-google.csv', delimiter=',')\n",
    "data3 = genfromtxt('../McKoon1986-pipeline/McKoon_experiment-twitter.csv', delimiter=',')\n",
    "data4 = genfromtxt('../McKoon1986-pipeline/McKoon_experiment-twitter-small.csv', delimiter=',')\n",
    "data5 = genfromtxt('../McKoon1986-pipeline/McKoon_experiment-en_core_web_lg.csv', delimiter=',')\n",
    "data6 = genfromtxt('../McKoon1986-pipeline/McKoon_experiment-glove_6B_100d.csv', delimiter=',')\n",
    "\n",
    "#wiki100, google300, twitter200, Twitter50, spacey-large, glove100"
   ]
  },
  {
   "cell_type": "code",
   "execution_count": 14,
   "metadata": {},
   "outputs": [
    {
     "name": "stdout",
     "output_type": "stream",
     "text": [
      "twitter50:    Ttest_relResult(statistic=2.0952228677624807, pvalue=0.04441484293015831)\n",
      "twitter200:   Ttest_relResult(statistic=2.2341925130151536, pvalue=0.03281982178663212)\n",
      "glove_6B_100d:    Ttest_relResult(statistic=2.366371180585176, pvalue=0.02439329131328475)\n",
      "core_web_lg:   Ttest_relResult(statistic=2.6783214213038278, pvalue=0.011729610520715267)\n",
      "wiki2vec100-verify:  Ttest_relResult(statistic=2.1440930451971427, pvalue=0.03997748462492251)\n",
      "google300:    Ttest_relResult(statistic=2.0462445190563985, pvalue=0.04929385920492816)\n",
      "[2.0952228677624807, 2.2341925130151536, 2.366371180585176, 2.6783214213038278, 2.1440930451971427, 2.0462445190563985]\n",
      "6\n"
     ]
    }
   ],
   "source": [
    "#print('wiki2vec100-old: ', stats.ttest_rel(data[:,0], data[:,1]))\n",
    "print('twitter50:   ', stats.ttest_rel(data4[:,0], data4[:,1]))\n",
    "print('twitter200:  ', stats.ttest_rel(data3[:,0], data3[:,1]))\n",
    "print('glove_6B_100d:   ', stats.ttest_rel(data6[:,0], data6[:,1]))\n",
    "print('core_web_lg:  ', stats.ttest_rel(data5[:,0], data5[:,1]))\n",
    "print('wiki2vec100-verify: ', stats.ttest_rel(data1[:,0], data1[:,1]))#data[:,1]->data1?\n",
    "print('google300:   ', stats.ttest_rel(data2[:,0], data2[:,1]))\n",
    "\n",
    "McKoonInference = [stats.ttest_rel(data4[:,0], data4[:,1])[0], stats.ttest_rel(data3[:,0], data3[:,1])[0], stats.ttest_rel(data6[:,0], data6[:,1])[0], stats.ttest_rel(data5[:,0], data5[:,1])[0], stats.ttest_rel(data1[:,0], data1[:,1])[0], stats.ttest_rel(data2[:,0], data2[:,1])[0]]\n",
    "print(McKoonInference)\n",
    "print(len(McKoonInference))"
   ]
  },
  {
   "cell_type": "code",
   "execution_count": 15,
   "metadata": {},
   "outputs": [
    {
     "name": "stdout",
     "output_type": "stream",
     "text": [
      "(0.9800042200989125, 0.0005957493523042087)\n",
      "(0.19863800328665218, 0.7059618305144592)\n",
      "[ 0.956333 -1.9114  ]\n",
      "[0.027181 2.10042 ]\n"
     ]
    },
    {
     "data": {
      "image/png": "[encoded data removed]",
      "text/plain": [
       "<Figure size 432x288 with 1 Axes>"
      ]
     },
     "metadata": {
      "needs_background": "light"
     },
     "output_type": "display_data"
    }
   ],
   "source": [
    "print(pearsonr(MetusalemSemantics, MetusalemInference))\n",
    "print(pearsonr(MetusalemSemantics, McKoonInference))\n",
    "\n",
    "plt.scatter(MetusalemSemantics, MetusalemInference, label='Met-inf', color='red')\n",
    "plt.scatter(MetusalemSemantics, McKoonInference, label='Mc-inf', color='blue')\n",
    "\n",
    "coefficientMetusalem = np.polyfit(MetusalemSemantics, MetusalemInference, 1)\n",
    "coefficientMcKoon = np.polyfit(MetusalemSemantics, McKoonInference, 1)\n",
    "print(coefficientMetusalem)\n",
    "print(coefficientMcKoon)\n",
    "\n",
    "plt.plot(MetusalemSemantics, np.poly1d(coefficientMetusalem)(MetusalemSemantics), color='red')\n",
    "plt.plot(MetusalemSemantics, np.poly1d(coefficientMcKoon)(MetusalemSemantics), color='blue')\n",
    "\n",
    "plt.legend()\n",
    "plt.show()"
   ]
  },
  {
   "cell_type": "code",
   "execution_count": null,
   "metadata": {},
   "outputs": [],
   "source": []
  }
 ],
 "metadata": {
  "kernelspec": {
   "display_name": "Python 3",
   "language": "python",
   "name": "python3"
  },
  "language_info": {
   "codemirror_mode": {
    "name": "ipython",
    "version": 3
   },
   "file_extension": ".py",
   "mimetype": "text/x-python",
   "name": "python",
   "nbconvert_exporter": "python",
   "pygments_lexer": "ipython3",
   "version": "3.7.6"
  }
 },
 "nbformat": 4,
 "nbformat_minor": 4
}
