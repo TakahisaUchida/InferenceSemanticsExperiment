{
 "cells": [
  {
   "cell_type": "code",
   "execution_count": 9,
   "metadata": {},
   "outputs": [],
   "source": [
    "import numpy as np\n",
    "import matplotlib\n",
    "import matplotlib.pyplot as plt\n",
    "#from matplotlib import pyplot\n",
    "import nltk\n",
    "\n",
    "np.set_printoptions(threshold=np.inf)\n",
    "np.set_printoptions(precision=6)\n",
    "\n",
    "import csv\n",
    "\n",
    "import scipy\n",
    "from scipy import stats\n",
    "from scipy.stats import pearsonr\n",
    "\n",
    "from numpy import genfromtxt\n",
    "\n",
    "from sklearn.linear_model import LinearRegression\n",
    "\n",
    "\n",
    "def cos_sim(v1, v2):\n",
    "\treturn np.dot(v1, v2) / (np.linalg.norm(v1) * np.linalg.norm(v2))\n"
   ]
  },
  {
   "cell_type": "code",
   "execution_count": 10,
   "metadata": {},
   "outputs": [],
   "source": [
    "\n",
    "data_metusalem_bert_1 = genfromtxt('../BERTexperiments/metusalem2012_experiment_bert_paraphrase-distilroberta-base-v1.csv', delimiter=',')\n",
    "data_metusalem_bert_2 = genfromtxt('../BERTexperiments/metusalem2012_experiment_bert_paraphrase-xlm-r-multilingual-v1.csv', delimiter=',')\n",
    "data_metusalem_bert_3 = genfromtxt('../BERTexperiments/metusalem2012_experiment_bert_stsb-roberta-large.csv', delimiter=',')\n",
    "data_metusalem_bert_4 = genfromtxt('../BERTexperiments/metusalem2012_experiment_bert_stsb-roberta-base.csv', delimiter=',')\n",
    "data_metusalem_bert_5 = genfromtxt('../BERTexperiments/metusalem2012_experiment_bert_stsb-bert-large.csv', delimiter=',')\n",
    "data_metusalem_bert_6 = genfromtxt('../BERTexperiments/metusalem2012_experiment_bert_stsb-distilbert-base.csv', delimiter=',')\n",
    "\n"
   ]
  },
  {
   "cell_type": "code",
   "execution_count": 11,
   "metadata": {},
   "outputs": [
    {
     "name": "stdout",
     "output_type": "stream",
     "text": [
      "metusalem_1: for BC vs EF Ttest_relResult(statistic=-5.242736371718992, pvalue=1.557811522417377e-06)\n",
      "metusalem_2: for BC vs EF Ttest_relResult(statistic=-6.737162216642251, pvalue=3.5493284993927408e-09)\n",
      "metusalem_3: for BC vs EF Ttest_relResult(statistic=-5.280608966580172, pvalue=1.3433557063448216e-06)\n",
      "metusalem_4: for BC vs EF Ttest_relResult(statistic=-4.35178252840956, pvalue=4.443614906899398e-05)\n",
      "metusalem_5: for BC vs EF Ttest_relResult(statistic=-6.42083680696892, pvalue=1.329590695878738e-08)\n",
      "metusalem_6: for BC vs EF Ttest_relResult(statistic=-5.800128598244468, pvalue=1.6966841244283046e-07)\n",
      "[5.242736371718992, 6.737162216642251, 5.280608966580172, 4.35178252840956, 6.42083680696892, 5.800128598244468]\n",
      "6\n"
     ]
    }
   ],
   "source": [
    "# Metusalem Inference\n",
    "\n",
    "# this is the main statistic, looking at the impact of discourse on UR vs UU\n",
    "print('metusalem_1: for BC vs EF',stats.ttest_rel(data_metusalem_bert_1[:,1] - data_metusalem_bert_1[:,2] , data_metusalem_bert_1[:,4] - data_metusalem_bert_1[:,5] ))\n",
    "print('metusalem_2: for BC vs EF',stats.ttest_rel(data_metusalem_bert_2[:,1] - data_metusalem_bert_2[:,2] , data_metusalem_bert_2[:,4] - data_metusalem_bert_2[:,5] ))\n",
    "print('metusalem_3: for BC vs EF',stats.ttest_rel(data_metusalem_bert_3[:,1] - data_metusalem_bert_3[:,2] , data_metusalem_bert_3[:,4] - data_metusalem_bert_3[:,5] ))\n",
    "print('metusalem_4: for BC vs EF',stats.ttest_rel(data_metusalem_bert_4[:,1] - data_metusalem_bert_4[:,2] , data_metusalem_bert_4[:,4] - data_metusalem_bert_4[:,5] ))\n",
    "print('metusalem_5: for BC vs EF',stats.ttest_rel(data_metusalem_bert_5[:,1] - data_metusalem_bert_5[:,2] , data_metusalem_bert_5[:,4] - data_metusalem_bert_5[:,5] ))\n",
    "print('metusalem_6: for BC vs EF',stats.ttest_rel(data_metusalem_bert_6[:,1] - data_metusalem_bert_6[:,2] , data_metusalem_bert_6[:,4] - data_metusalem_bert_6[:,5] ))\n",
    "\n",
    "\n",
    "#MetusalemInference = [stats.ttest_rel(data_twit[:,1] - data_twit[:,2] , data_twit[:,4] - data_twit[:,5] )[0], stats.ttest_rel(data_twit200[:,1] - data_twit200[:,2] , data_twit200[:,4] - data_twit200[:,5] )[0], stats.ttest_rel(data_wiki[:,1] - data_wiki[:,2] , data_wiki[:,4] - data_wiki[:,5] )[0], stats.ttest_rel(data_lg[:,1] - data_lg[:,2] , data_lg[:,4] - data_lg[:,5] )[0], stats.ttest_rel(data_w2v[:,1] - data_w2v[:,2] , data_w2v[:,4] - data_w2v[:,5] )[0], stats.ttest_rel(data_google300[:,1] - data_google300[:,2] , data_google300[:,4] - data_google300[:,5] )[0]]\n",
    "#MetusalemInference = [abs(stats.ttest_rel(data_twit[:,1] - data_twit[:,2] , data_twit[:,4] - data_twit[:,5] )[0]), abs(stats.ttest_rel(data_twit200[:,1] - data_twit200[:,2] , data_twit200[:,4] - data_twit200[:,5] )[0]), abs(stats.ttest_rel(data_wiki[:,1] - data_wiki[:,2] , data_wiki[:,4] - data_wiki[:,5] )[0]), abs(stats.ttest_rel(data_lg[:,1] - data_lg[:,2] , data_lg[:,4] - data_lg[:,5] )[0]), abs(stats.ttest_rel(data_w2v[:,1] - data_w2v[:,2] , data_w2v[:,4] - data_w2v[:,5] )[0]), abs(stats.ttest_rel(data_google300[:,1] - data_google300[:,2] , data_google300[:,4] - data_google300[:,5] )[0])]\n",
    "MetusalemInference_bert = [abs(stats.ttest_rel(data_metusalem_bert_1[:,1] - data_metusalem_bert_1[:,2] , data_metusalem_bert_1[:,4] - data_metusalem_bert_1[:,5] )[0]), abs(stats.ttest_rel(data_metusalem_bert_2[:,1] - data_metusalem_bert_2[:,2] , data_metusalem_bert_2[:,4] - data_metusalem_bert_2[:,5] )[0]), abs(stats.ttest_rel(data_metusalem_bert_3[:,1] - data_metusalem_bert_3[:,2] , data_metusalem_bert_3[:,4] - data_metusalem_bert_3[:,5] )[0]), abs(stats.ttest_rel(data_metusalem_bert_4[:,1] - data_metusalem_bert_4[:,2] , data_metusalem_bert_4[:,4] - data_metusalem_bert_4[:,5] )[0]), abs(stats.ttest_rel(data_metusalem_bert_5[:,1] - data_metusalem_bert_5[:,2] , data_metusalem_bert_5[:,4] - data_metusalem_bert_5[:,5] )[0]), abs(stats.ttest_rel(data_metusalem_bert_6[:,1] - data_metusalem_bert_6[:,2] , data_metusalem_bert_6[:,4] - data_metusalem_bert_6[:,5] )[0])]\n",
    "\n",
    "\n",
    "print(MetusalemInference_bert)\n",
    "print(len(MetusalemInference_bert))"
   ]
  },
  {
   "cell_type": "code",
   "execution_count": 12,
   "metadata": {},
   "outputs": [
    {
     "name": "stdout",
     "output_type": "stream",
     "text": [
      "data_metusalem_1: for BC vs EF Ttest_relResult(statistic=4.307806679867497, pvalue=5.2032281115393814e-05)\n",
      "data_metusalem_2: for BC vs EF Ttest_relResult(statistic=6.107569088996655, pvalue=4.848065242403985e-08)\n",
      "data_metusalem_3: for BC vs EF Ttest_relResult(statistic=7.936404862415608, pvalue=2.1939078696160524e-11)\n",
      "data_metusalem_4: for BC vs EF Ttest_relResult(statistic=5.304552723951937, pvalue=1.2230226355759026e-06)\n",
      "data_metusalem_5: for BC vs EF Ttest_relResult(statistic=7.891088229540914, pvalue=2.6620809598843982e-11)\n",
      "data_metusalem_6: for BC vs EF Ttest_relResult(statistic=8.103418039652302, pvalue=1.0752760715063326e-11)\n",
      "[4.307806679867497, 6.107569088996655, 7.936404862415608, 5.304552723951937, 7.891088229540914, 8.103418039652302]\n",
      "6\n"
     ]
    }
   ],
   "source": [
    "# Metusalem Semantics\n",
    "\n",
    "\n",
    "# NOW compare to a simpler mesure of semantics\n",
    "print('data_metusalem_1: for BC vs EF',stats.ttest_rel(data_metusalem_bert_1[:,0]  , (data_metusalem_bert_1[:,1] + data_metusalem_bert_1[:,2])/2 ))\n",
    "print('data_metusalem_2: for BC vs EF',stats.ttest_rel(data_metusalem_bert_2[:,0]  , (data_metusalem_bert_2[:,1] + data_metusalem_bert_2[:,2])/2 ))\n",
    "print('data_metusalem_3: for BC vs EF',stats.ttest_rel(data_metusalem_bert_3[:,0]  , (data_metusalem_bert_3[:,1] + data_metusalem_bert_3[:,2])/2 ))\n",
    "print('data_metusalem_4: for BC vs EF',stats.ttest_rel(data_metusalem_bert_4[:,0]  , (data_metusalem_bert_4[:,1] + data_metusalem_bert_4[:,2])/2 ))\n",
    "print('data_metusalem_5: for BC vs EF',stats.ttest_rel(data_metusalem_bert_5[:,0]  , (data_metusalem_bert_5[:,1] + data_metusalem_bert_5[:,2])/2 ))\n",
    "print('data_metusalem_6: for BC vs EF',stats.ttest_rel(data_metusalem_bert_6[:,0]  , (data_metusalem_bert_6[:,1] + data_metusalem_bert_6[:,2])/2 ))\n",
    "\n",
    "\n",
    "MetusalemSemantics_bert = [stats.ttest_rel(data_metusalem_bert_1[:,0]  , (data_metusalem_bert_1[:,1] + data_metusalem_bert_1[:,2])/2 )[0], stats.ttest_rel(data_metusalem_bert_2[:,0]  , (data_metusalem_bert_2[:,1] + data_metusalem_bert_2[:,2])/2 )[0], stats.ttest_rel(data_metusalem_bert_3[:,0]  , (data_metusalem_bert_3[:,1] + data_metusalem_bert_3[:,2])/2 )[0], stats.ttest_rel(data_metusalem_bert_4[:,0]  , (data_metusalem_bert_4[:,1] + data_metusalem_bert_4[:,2])/2 )[0], stats.ttest_rel(data_metusalem_bert_5[:,0]  , (data_metusalem_bert_5[:,1] + data_metusalem_bert_5[:,2])/2 )[0], stats.ttest_rel(data_metusalem_bert_6[:,0]  , (data_metusalem_bert_6[:,1] + data_metusalem_bert_6[:,2])/2 )[0]]\n",
    "print(MetusalemSemantics_bert)\n",
    "print(len(MetusalemSemantics_bert))"
   ]
  },
  {
   "cell_type": "code",
   "execution_count": 13,
   "metadata": {},
   "outputs": [],
   "source": [
    "# McKoon Inference\n",
    "\n",
    "\n",
    "data_mckoon_bert_1 = genfromtxt('../BERTexperiments/McKoon_experiment_bert_paraphrase-distilroberta-base-v1.csv', delimiter=',')\n",
    "data_mckoon_bert_2 = genfromtxt('../BERTexperiments/McKoon_experiment_bert_paraphrase-xlm-r-multilingual-v1.csv', delimiter=',')\n",
    "data_mckoon_bert_3 = genfromtxt('../BERTexperiments/McKoon_experiment_bert_stsb-roberta-large.csv', delimiter=',')\n",
    "data_mckoon_bert_4 = genfromtxt('../BERTexperiments/McKoon_experiment_bert_stsb-roberta-base.csv', delimiter=',')\n",
    "data_mckoon_bert_5 = genfromtxt('../BERTexperiments/McKoon_experiment_bert_stsb-bert-large.csv', delimiter=',')\n",
    "data_mckoon_bert_6 = genfromtxt('../BERTexperiments/McKoon_experiment_bert_stsb-distilbert-base.csv', delimiter=',')\n"
   ]
  },
  {
   "cell_type": "code",
   "execution_count": 14,
   "metadata": {},
   "outputs": [
    {
     "name": "stdout",
     "output_type": "stream",
     "text": [
      "data_mckoon_1:    Ttest_relResult(statistic=3.292748121052201, pvalue=0.0024838290058466998)\n",
      "data_mckoon_2:   Ttest_relResult(statistic=4.759119785469619, pvalue=4.2791682874783505e-05)\n",
      "data_mckoon_3:    Ttest_relResult(statistic=8.593023856473064, pvalue=1.0506038646377549e-09)\n",
      "data_mckoon_4:   Ttest_relResult(statistic=4.613186923491395, pvalue=6.488452939146919e-05)\n",
      "data_mckoon_5:  Ttest_relResult(statistic=7.8360010901174375, pvalue=7.63945403869904e-09)\n",
      "data_mckoon_6:    Ttest_relResult(statistic=4.247079395157432, pvalue=0.00018300802673097135)\n",
      "[3.292748121052201, 4.759119785469619, 8.593023856473064, 4.613186923491395, 7.8360010901174375, 4.247079395157432]\n",
      "6\n"
     ]
    }
   ],
   "source": [
    "\n",
    "print('data_mckoon_1:   ', stats.ttest_rel(data_mckoon_bert_1[:,0], data_mckoon_bert_1[:,1]))\n",
    "print('data_mckoon_2:  ', stats.ttest_rel(data_mckoon_bert_2[:,0], data_mckoon_bert_2[:,1]))\n",
    "print('data_mckoon_3:   ', stats.ttest_rel(data_mckoon_bert_3[:,0], data_mckoon_bert_3[:,1]))\n",
    "print('data_mckoon_4:  ', stats.ttest_rel(data_mckoon_bert_4[:,0], data_mckoon_bert_4[:,1]))\n",
    "print('data_mckoon_5: ', stats.ttest_rel(data_mckoon_bert_5[:,0], data_mckoon_bert_5[:,1]))\n",
    "print('data_mckoon_6:   ', stats.ttest_rel(data_mckoon_bert_6[:,0], data_mckoon_bert_6[:,1]))\n",
    "\n",
    "McKoonInference_bert = [stats.ttest_rel(data_mckoon_bert_1[:,0], data_mckoon_bert_1[:,1])[0], stats.ttest_rel(data_mckoon_bert_2[:,0], data_mckoon_bert_2[:,1])[0], stats.ttest_rel(data_mckoon_bert_3[:,0], data_mckoon_bert_3[:,1])[0], stats.ttest_rel(data_mckoon_bert_4[:,0], data_mckoon_bert_4[:,1])[0], stats.ttest_rel(data_mckoon_bert_5[:,0], data_mckoon_bert_5[:,1])[0], stats.ttest_rel(data_mckoon_bert_6[:,0], data_mckoon_bert_6[:,1])[0]]\n",
    "print(McKoonInference_bert)\n",
    "print(len(McKoonInference_bert))"
   ]
  },
  {
   "cell_type": "code",
   "execution_count": 15,
   "metadata": {},
   "outputs": [
    {
     "name": "stdout",
     "output_type": "stream",
     "text": [
      "(0.4019864351206929, 0.42949946322178173)\n",
      "(0.6907673764426304, 0.12865206692543593)\n",
      "[0.217868 4.199102]\n",
      "[ 0.918411 -0.512434]\n"
     ]
    },
    {
     "data": {
      "image/png": "[encoded data removed]",
      "text/plain": [
       "<Figure size 432x288 with 1 Axes>"
      ]
     },
     "metadata": {
      "needs_background": "light"
     },
     "output_type": "display_data"
    }
   ],
   "source": [
    "print(pearsonr(MetusalemSemantics_bert, MetusalemInference_bert))\n",
    "print(pearsonr(MetusalemSemantics_bert, McKoonInference_bert))\n",
    "\n",
    "plt.scatter(MetusalemSemantics_bert, MetusalemInference_bert, label='Met-inf-bert', color='red')\n",
    "plt.scatter(MetusalemSemantics_bert, McKoonInference_bert, label='Mc-inf-bert', color='blue')\n",
    "\n",
    "coefficientMetusalem_bert = np.polyfit(MetusalemSemantics_bert, MetusalemInference_bert, 1)\n",
    "coefficientMcKoon_bert = np.polyfit(MetusalemSemantics_bert, McKoonInference_bert, 1)\n",
    "print(coefficientMetusalem_bert)\n",
    "print(coefficientMcKoon_bert)\n",
    "\n",
    "plt.plot(MetusalemSemantics_bert, np.poly1d(coefficientMetusalem_bert)(MetusalemSemantics_bert), color='red')\n",
    "plt.plot(MetusalemSemantics_bert, np.poly1d(coefficientMcKoon_bert)(MetusalemSemantics_bert), color='blue')\n",
    "\n",
    "plt.legend()\n",
    "plt.show()"
   ]
  },
  {
   "cell_type": "code",
   "execution_count": null,
   "metadata": {},
   "outputs": [],
   "source": []
  },
  {
   "cell_type": "code",
   "execution_count": null,
   "metadata": {},
   "outputs": [],
   "source": []
  }
 ],
 "metadata": {
  "kernelspec": {
   "display_name": "Python 3",
   "language": "python",
   "name": "python3"
  },
  "language_info": {
   "codemirror_mode": {
    "name": "ipython",
    "version": 3
   },
   "file_extension": ".py",
   "mimetype": "text/x-python",
   "name": "python",
   "nbconvert_exporter": "python",
   "pygments_lexer": "ipython3",
   "version": "3.7.6"
  }
 },
 "nbformat": 4,
 "nbformat_minor": 4
}
